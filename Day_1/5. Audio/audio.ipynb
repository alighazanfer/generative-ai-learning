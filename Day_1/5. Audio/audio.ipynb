{
 "cells": [
  {
   "cell_type": "code",
   "execution_count": null,
   "id": "f2698d9a",
   "metadata": {},
   "outputs": [],
   "source": [
    "pip install python-dotenv google-genai wave"
   ]
  },
  {
   "cell_type": "code",
   "execution_count": 6,
   "id": "49211e81",
   "metadata": {},
   "outputs": [],
   "source": [
    "import os\n",
    "import wave\n",
    "from google import genai\n",
    "from google.genai import types\n",
    "from dotenv import load_dotenv\n",
    "\n",
    "load_dotenv()\n",
    "\n",
    "api_key = os.getenv(\"GEMINI_API_KEY\")\n",
    "if not api_key:\n",
    "    raise ValueError(\"GEMINI_API_KEY not found in environment variables.\")\n",
    "\n",
    "client = genai.Client(api_key=api_key)"
   ]
  },
  {
   "cell_type": "code",
   "execution_count": null,
   "id": "8ff2e4ee",
   "metadata": {},
   "outputs": [],
   "source": [
    "def wave_file(filename, pcm, channels=1, rate=24000, sample_width=2):\n",
    "   with wave.open(filename, \"wb\") as wf:\n",
    "      wf.setnchannels(channels)\n",
    "      wf.setsampwidth(sample_width)\n",
    "      wf.setframerate(rate)\n",
    "      wf.writeframes(pcm)\n",
    "\n",
    "prompt = \"\"\"\n",
    "You are a communication expert.\n",
    "Generate the phrase: \"How can I help you?\" in two distinct voice styles:\n",
    "- Speaker Dr. Any: Formal and professional\n",
    "- Speaker Liam: Friendly and casual\n",
    "\"\"\"\n",
    "\n",
    "response = client.models.generate_content(\n",
    "    model=\"gemini-2.5-flash-preview-tts\",\n",
    "    contents=prompt,\n",
    "    config=types.GenerateContentConfig(\n",
    "        response_modalities=[\"AUDIO\"],\n",
    "        speech_config=types.SpeechConfig(\n",
    "            multi_speaker_voice_config=types.MultiSpeakerVoiceConfig(\n",
    "                speaker_voice_configs=[\n",
    "                    types.SpeakerVoiceConfig(\n",
    "                        speaker='Dr. Anya',\n",
    "                        voice_config=types.VoiceConfig(\n",
    "                            prebuilt_voice_config=types.PrebuiltVoiceConfig(\n",
    "                                voice_name='Kore',\n",
    "                            )\n",
    "                        )\n",
    "                    ),\n",
    "                    types.SpeakerVoiceConfig(\n",
    "                        speaker='Liam',\n",
    "                        voice_config=types.VoiceConfig(\n",
    "                            prebuilt_voice_config=types.PrebuiltVoiceConfig(\n",
    "                                voice_name='Puck',\n",
    "                            )\n",
    "                        )\n",
    "                    )\n",
    "                ]\n",
    "            )\n",
    "        )\n",
    "    )\n",
    ")\n",
    "\n",
    "data = response.candidates[0].content.parts[0].inline_data.data\n",
    "file_name = 'how_can_i_help_you.wav'\n",
    "wave_file(file_name, data)"
   ]
  }
 ],
 "metadata": {
  "kernelspec": {
   "display_name": "Python 3",
   "language": "python",
   "name": "python3"
  },
  "language_info": {
   "codemirror_mode": {
    "name": "ipython",
    "version": 3
   },
   "file_extension": ".py",
   "mimetype": "text/x-python",
   "name": "python",
   "nbconvert_exporter": "python",
   "pygments_lexer": "ipython3",
   "version": "3.9.6"
  }
 },
 "nbformat": 4,
 "nbformat_minor": 5
}
