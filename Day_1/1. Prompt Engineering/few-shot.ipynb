{
 "cells": [
  {
   "cell_type": "code",
   "execution_count": null,
   "id": "f6aadf2c",
   "metadata": {},
   "outputs": [],
   "source": [
    "pip install python-dotenv google-genai"
   ]
  },
  {
   "cell_type": "code",
   "execution_count": 3,
   "id": "6ae51dfe",
   "metadata": {},
   "outputs": [
    {
     "name": "stderr",
     "output_type": "stream",
     "text": [
      "/Users/alighazanfar/Library/Python/3.9/lib/python/site-packages/urllib3/__init__.py:35: NotOpenSSLWarning: urllib3 v2 only supports OpenSSL 1.1.1+, currently the 'ssl' module is compiled with 'LibreSSL 2.8.3'. See: https://github.com/urllib3/urllib3/issues/3020\n",
      "  warnings.warn(\n"
     ]
    }
   ],
   "source": [
    "import os\n",
    "from google import genai\n",
    "from dotenv import load_dotenv\n",
    "\n",
    "load_dotenv()\n",
    "\n",
    "api_key = os.getenv(\"GEMINI_API_KEY\")\n",
    "if not api_key:\n",
    "    raise ValueError(\"GEMINI_API_KEY not found in environment variables.\")\n",
    "\n",
    "client = genai.Client(api_key=api_key)\n",
    "\n",
    "def classify_review(review_text: str) -> str:\n",
    "    prompt = f\"\"\"\n",
    "        You are a helpful assistant. Classify customer reviews into Positive, Negative, or Neutral.\n",
    "\n",
    "        Here are some examples of customer reviews:\n",
    "        - \"The product was great and exceeded my expectations!\" (Positive)\n",
    "        - \"I am not satisfied with the service I received.\" (Negative)\n",
    "        - \"The delivery was on time, but the product was average.\" (Neutral) \n",
    "\n",
    "        Your answer should be exactly:\n",
    "        - \"Positive\" for positive reviews\n",
    "        - \"Negative\" for negative reviews\n",
    "        - \"Neutral\" for neutral reviews\n",
    "\n",
    "        Now classify this review:\n",
    "        \"{review_text}\"\n",
    "    \"\"\"\n",
    "\n",
    "    response = client.models.generate_content(\n",
    "        model=\"gemini-2.5-flash\",\n",
    "        contents=prompt,\n",
    "    )\n",
    "\n",
    "    return response.text.strip()"
   ]
  },
  {
   "cell_type": "code",
   "execution_count": 4,
   "id": "0e47b2d0",
   "metadata": {},
   "outputs": [
    {
     "name": "stdout",
     "output_type": "stream",
     "text": [
      "Neutral\n"
     ]
    }
   ],
   "source": [
    "result = classify_review(\"Packaging was damaged, but the product inside was fine.\")\n",
    "print(result)"
   ]
  }
 ],
 "metadata": {
  "kernelspec": {
   "display_name": "Python 3",
   "language": "python",
   "name": "python3"
  },
  "language_info": {
   "codemirror_mode": {
    "name": "ipython",
    "version": 3
   },
   "file_extension": ".py",
   "mimetype": "text/x-python",
   "name": "python",
   "nbconvert_exporter": "python",
   "pygments_lexer": "ipython3",
   "version": "3.9.6"
  }
 },
 "nbformat": 4,
 "nbformat_minor": 5
}
