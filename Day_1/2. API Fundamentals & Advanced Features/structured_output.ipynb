{
 "cells": [
  {
   "cell_type": "code",
   "execution_count": null,
   "id": "f6aadf2c",
   "metadata": {},
   "outputs": [],
   "source": [
    "pip install python-dotenv google-genai"
   ]
  },
  {
   "cell_type": "code",
   "execution_count": null,
   "id": "6ae51dfe",
   "metadata": {},
   "outputs": [],
   "source": [
    "import os\n",
    "from google import genai\n",
    "from google.genai import types\n",
    "from dotenv import load_dotenv\n",
    "\n",
    "load_dotenv()\n",
    "\n",
    "api_key = os.getenv(\"GEMINI_API_KEY\")\n",
    "if not api_key:\n",
    "    raise ValueError(\"GEMINI_API_KEY not found in environment variables.\")\n",
    "\n",
    "client = genai.Client(api_key=api_key)\n",
    "\n",
    "def classify_review(review_text: str) -> str:\n",
    "    zero_shot_prompt = f\"\"\"\n",
    "        You are a helpful assistant. Classify the given customer review into two fields:\n",
    "        1. level — one word only: Positive, Negative, or Neutral\n",
    "        2. reason — a short explanation for why that level was assigned\n",
    "\n",
    "        Return the answer in JSON format with the keys \"level\" and \"reason\".\n",
    "\n",
    "        Review: {review_text}\n",
    "    \"\"\"\n",
    "    \n",
    "    response = client.models.generate_content(\n",
    "        model=\"gemini-2.5-flash\",\n",
    "        contents=zero_shot_prompt,\n",
    "        config=types.GenerateContentConfig(\n",
    "            thinking_config=types.ThinkingConfig(thinking_budget=-1),\n",
    "            temperature=0.0,\n",
    "            top_p=1.0\n",
    "        )\n",
    "    )\n",
    "\n",
    "    return response.text.strip()"
   ]
  },
  {
   "cell_type": "code",
   "execution_count": 9,
   "id": "0e47b2d0",
   "metadata": {},
   "outputs": [
    {
     "name": "stdout",
     "output_type": "stream",
     "text": [
      "```json\n",
      "{\n",
      "  \"level\": \"Neutral\",\n",
      "  \"reason\": \"The packaging was damaged, which is a negative point, but the product inside was unharmed, balancing the overall experience.\"\n",
      "}\n",
      "```\n"
     ]
    }
   ],
   "source": [
    "result = classify_review(\"Packaging was damaged, but the product inside was fine.\")\n",
    "print(result)"
   ]
  }
 ],
 "metadata": {
  "kernelspec": {
   "display_name": "Python 3",
   "language": "python",
   "name": "python3"
  },
  "language_info": {
   "codemirror_mode": {
    "name": "ipython",
    "version": 3
   },
   "file_extension": ".py",
   "mimetype": "text/x-python",
   "name": "python",
   "nbconvert_exporter": "python",
   "pygments_lexer": "ipython3",
   "version": "3.9.6"
  }
 },
 "nbformat": 4,
 "nbformat_minor": 5
}
