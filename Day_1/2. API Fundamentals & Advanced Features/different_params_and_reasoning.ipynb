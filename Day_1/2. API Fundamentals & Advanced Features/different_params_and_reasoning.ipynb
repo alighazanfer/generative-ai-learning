{
 "cells": [
  {
   "cell_type": "code",
   "execution_count": null,
   "id": "f6aadf2c",
   "metadata": {},
   "outputs": [],
   "source": [
    "pip install python-dotenv google-genai"
   ]
  },
  {
   "cell_type": "code",
   "execution_count": 19,
   "id": "6ae51dfe",
   "metadata": {},
   "outputs": [],
   "source": [
    "import os\n",
    "from google import genai\n",
    "from google.genai import types\n",
    "from dotenv import load_dotenv\n",
    "\n",
    "load_dotenv()\n",
    "\n",
    "api_key = os.getenv(\"GEMINI_API_KEY\")\n",
    "if not api_key:\n",
    "    raise ValueError(\"GEMINI_API_KEY not found in environment variables.\")\n",
    "\n",
    "client = genai.Client(api_key=api_key)\n",
    "\n",
    "def classify_review(review_text: str) -> str:\n",
    "    prompt = f\"You are a helpful assistant. Classify customer reviews into Positive, Negative, or Neutral. Now classify this review: {review_text}\"\n",
    "\n",
    "    response = client.models.generate_content(\n",
    "        model=\"gemini-2.5-flash\",\n",
    "        contents=prompt,\n",
    "        config=types.GenerateContentConfig(\n",
    "            # temperature=0.0,\n",
    "            # top_p=1.0,\n",
    "            thinking_config=types.ThinkingConfig(thinking_budget=-1)\n",
    "        )\n",
    "    )\n",
    "\n",
    "    return response.text.strip()"
   ]
  },
  {
   "cell_type": "code",
   "execution_count": 18,
   "id": "0e47b2d0",
   "metadata": {},
   "outputs": [
    {
     "name": "stdout",
     "output_type": "stream",
     "text": [
      "Okay, I will classify that review for you.\n",
      "\n",
      "**Review:** \"Packaging was damaged, but the product inside was fine.\"\n",
      "\n",
      "**Classification: Positive**\n",
      "\n",
      "**Reasoning:** While the packaging being damaged is a negative point, the crucial \"but the product inside was fine\" indicates that the core purpose of the purchase was fulfilled without issue. The most important aspect (the product itself) met expectations, leading to an overall satisfactory experience for the customer.\n"
     ]
    }
   ],
   "source": [
    "result = classify_review(\"Packaging was damaged, but the product inside was fine.\")\n",
    "print(result)"
   ]
  }
 ],
 "metadata": {
  "kernelspec": {
   "display_name": "Python 3",
   "language": "python",
   "name": "python3"
  },
  "language_info": {
   "codemirror_mode": {
    "name": "ipython",
    "version": 3
   },
   "file_extension": ".py",
   "mimetype": "text/x-python",
   "name": "python",
   "nbconvert_exporter": "python",
   "pygments_lexer": "ipython3",
   "version": "3.9.6"
  }
 },
 "nbformat": 4,
 "nbformat_minor": 5
}
