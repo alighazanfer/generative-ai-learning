{
 "cells": [
  {
   "cell_type": "code",
   "execution_count": null,
   "id": "3967a06c",
   "metadata": {},
   "outputs": [],
   "source": [
    "pip install python-dotenv google-genai pathlib"
   ]
  },
  {
   "cell_type": "code",
   "execution_count": 2,
   "id": "7dc942ef",
   "metadata": {},
   "outputs": [
    {
     "name": "stderr",
     "output_type": "stream",
     "text": [
      "/Users/alighazanfar/Library/Python/3.9/lib/python/site-packages/urllib3/__init__.py:35: NotOpenSSLWarning: urllib3 v2 only supports OpenSSL 1.1.1+, currently the 'ssl' module is compiled with 'LibreSSL 2.8.3'. See: https://github.com/urllib3/urllib3/issues/3020\n",
      "  warnings.warn(\n"
     ]
    }
   ],
   "source": [
    "import os\n",
    "import pathlib\n",
    "from google import genai\n",
    "from google.genai import types\n",
    "from dotenv import load_dotenv\n",
    "\n",
    "load_dotenv()\n",
    "\n",
    "api_key = os.getenv(\"GEMINI_API_KEY\")\n",
    "if not api_key:\n",
    "    raise ValueError(\"GEMINI_API_KEY not found in environment variables.\")\n",
    "\n",
    "client = genai.Client(api_key=api_key)"
   ]
  },
  {
   "cell_type": "code",
   "execution_count": 7,
   "id": "90effcdf",
   "metadata": {},
   "outputs": [],
   "source": [
    "def get_invoice_info() -> str:\n",
    "    filepath = pathlib.Path('invoice_1.pdf')\n",
    "    if not filepath.exists():\n",
    "        raise FileNotFoundError(f\"The file {filepath} does not exist.\")\n",
    "    \n",
    "    zero_shot_prompt = f\"\"\"\n",
    "        You are an expert in reading and interpreting business documents.  \n",
    "        Analyze the provided invoice and extract the following information in JSON format:\n",
    "\n",
    "        1. seller_name — the full name of the seller.\n",
    "        2. client_name — the full name of the client.\n",
    "        3. summary — a concise 2–3 sentence summary of the transaction, including invoice date, total amount, and purpose of the transaction.\n",
    "\n",
    "        If any field cannot be found, return null for that field.  \n",
    "        Only use information explicitly mentioned in the document.\n",
    "    \"\"\"\n",
    "    \n",
    "    response = client.models.generate_content(\n",
    "        model=\"gemini-2.5-flash-lite\",\n",
    "        contents=[\n",
    "            types.Part.from_bytes(\n",
    "                data=filepath.read_bytes(),\n",
    "                mime_type='application/pdf',\n",
    "            ),\n",
    "            zero_shot_prompt\n",
    "        ]\n",
    "    )\n",
    "\n",
    "    return response.text.strip()"
   ]
  },
  {
   "cell_type": "code",
   "execution_count": 8,
   "id": "52dea717",
   "metadata": {},
   "outputs": [
    {
     "name": "stdout",
     "output_type": "stream",
     "text": [
      "```json\n",
      "{\n",
      "  \"seller_name\": \"Chapman, Kim and Green\",\n",
      "  \"client_name\": \"Rodriguez-Stevens\",\n",
      "  \"data\": [\n",
      "    {\n",
      "      \"No.\": 1,\n",
      "      \"Description\": \"Wine Glasses Goblets Pair Clear Glass\",\n",
      "      \"Qty\": 5.00,\n",
      "      \"UM\": \"each\",\n",
      "      \"Net price\": 12.00,\n",
      "      \"Net worth\": 60.00,\n",
      "      \"VAT [%]\": \"10%\",\n",
      "      \"Gross worth\": 66.00\n",
      "    },\n",
      "    {\n",
      "      \"No.\": 2,\n",
      "      \"Description\": \"With Hooks Stemware Storage Multiple Uses Iron Wine Rack Hanging Glass\",\n",
      "      \"Qty\": 4.00,\n",
      "      \"UM\": \"each\",\n",
      "      \"Net price\": 28.08,\n",
      "      \"Net worth\": 112.32,\n",
      "      \"VAT [%]\": \"10%\",\n",
      "      \"Gross worth\": 123.55\n",
      "    },\n",
      "    {\n",
      "      \"No.\": 3,\n",
      "      \"Description\": \"Replacement Corkscrew Parts Spiral Worm Wine Opener Bottle Houdini\",\n",
      "      \"Qty\": 1.00,\n",
      "      \"UM\": \"each\",\n",
      "      \"Net price\": 7.50,\n",
      "      \"Net worth\": 7.50,\n",
      "      \"VAT [%]\": \"10%\",\n",
      "      \"Gross worth\": 8.25\n",
      "    },\n",
      "    {\n",
      "      \"No.\": 4,\n",
      "      \"Description\": \"HOME ESSENTIALS GRADIENT STEMLESS WINE GLASSES SET OF 4 20 FL OZ (591 ml) NEW\",\n",
      "      \"Qty\": 1.00,\n",
      "      \"UM\": \"each\",\n",
      "      \"Net price\": 12.99,\n",
      "      \"Net worth\": 12.99,\n",
      "      \"VAT [%]\": \"10%\",\n",
      "      \"Gross worth\": 14.29\n",
      "    }\n",
      "  ]\n",
      "}\n",
      "```\n"
     ]
    }
   ],
   "source": [
    "response = get_invoice_info()\n",
    "print(response)"
   ]
  }
 ],
 "metadata": {
  "kernelspec": {
   "display_name": "Python 3",
   "language": "python",
   "name": "python3"
  },
  "language_info": {
   "codemirror_mode": {
    "name": "ipython",
    "version": 3
   },
   "file_extension": ".py",
   "mimetype": "text/x-python",
   "name": "python",
   "nbconvert_exporter": "python",
   "pygments_lexer": "ipython3",
   "version": "3.9.6"
  }
 },
 "nbformat": 4,
 "nbformat_minor": 5
}
