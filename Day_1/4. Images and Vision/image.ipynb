{
 "cells": [
  {
   "cell_type": "code",
   "execution_count": null,
   "id": "3967a06c",
   "metadata": {},
   "outputs": [],
   "source": [
    "pip install python-dotenv google-genai pathlib"
   ]
  },
  {
   "cell_type": "code",
   "execution_count": 2,
   "id": "7dc942ef",
   "metadata": {},
   "outputs": [
    {
     "name": "stderr",
     "output_type": "stream",
     "text": [
      "/Users/alighazanfar/Library/Python/3.9/lib/python/site-packages/urllib3/__init__.py:35: NotOpenSSLWarning: urllib3 v2 only supports OpenSSL 1.1.1+, currently the 'ssl' module is compiled with 'LibreSSL 2.8.3'. See: https://github.com/urllib3/urllib3/issues/3020\n",
      "  warnings.warn(\n"
     ]
    }
   ],
   "source": [
    "import os\n",
    "import pathlib\n",
    "from google import genai\n",
    "from google.genai import types\n",
    "from dotenv import load_dotenv\n",
    "\n",
    "load_dotenv()\n",
    "\n",
    "api_key = os.getenv(\"GEMINI_API_KEY\")\n",
    "if not api_key:\n",
    "    raise ValueError(\"GEMINI_API_KEY not found in environment variables.\")\n",
    "\n",
    "client = genai.Client(api_key=api_key)"
   ]
  },
  {
   "cell_type": "code",
   "execution_count": 5,
   "id": "90effcdf",
   "metadata": {},
   "outputs": [],
   "source": [
    "def get_image_info() -> str:\n",
    "    zero_shot_prompt = f\"\"\"\n",
    "        You are an expert in reading and interpreting business documents images.  \n",
    "        Analyze the provided invoice and extract the following information in JSON format:\n",
    "\n",
    "        1. seller_name — the full name of the seller.\n",
    "        2. client_name — the full name of the client.\n",
    "        3. summary — a concise 2–3 sentence summary of the transaction, including invoice date, total amount, and purpose of the transaction.\n",
    "\n",
    "        If any field cannot be found, return null for that field.  \n",
    "        Only use information explicitly mentioned in the document.\n",
    "    \"\"\"\n",
    "\n",
    "    with open('invoice_image.png', 'rb') as f:\n",
    "      image_bytes = f.read()\n",
    "    \n",
    "    response = client.models.generate_content(\n",
    "        model=\"gemini-2.5-flash\",\n",
    "        contents=[\n",
    "            types.Part.from_bytes(\n",
    "                data=image_bytes,\n",
    "                mime_type='image/png'\n",
    "            ),\n",
    "            zero_shot_prompt\n",
    "        ]\n",
    "    )\n",
    "\n",
    "    return response.text.strip()"
   ]
  },
  {
   "cell_type": "code",
   "execution_count": 6,
   "id": "52dea717",
   "metadata": {},
   "outputs": [
    {
     "name": "stdout",
     "output_type": "stream",
     "text": [
      "```json\n",
      "{\n",
      "  \"seller_name\": \"Chapman, Kim and Green\",\n",
      "  \"client_name\": \"Rodriguez-Stevens\",\n",
      "  \"summary\": \"This invoice, dated 09/06/2012, details a transaction for various wine-related products including wine glasses, stemware storage, and corkscrew parts. The total gross amount for this transaction is $212.09.\"\n",
      "}\n",
      "```\n"
     ]
    }
   ],
   "source": [
    "response = get_image_info()\n",
    "print(response)"
   ]
  }
 ],
 "metadata": {
  "kernelspec": {
   "display_name": "Python 3",
   "language": "python",
   "name": "python3"
  },
  "language_info": {
   "codemirror_mode": {
    "name": "ipython",
    "version": 3
   },
   "file_extension": ".py",
   "mimetype": "text/x-python",
   "name": "python",
   "nbconvert_exporter": "python",
   "pygments_lexer": "ipython3",
   "version": "3.9.6"
  }
 },
 "nbformat": 4,
 "nbformat_minor": 5
}
