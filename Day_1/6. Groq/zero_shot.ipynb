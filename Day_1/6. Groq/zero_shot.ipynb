{
 "cells": [
  {
   "cell_type": "code",
   "execution_count": null,
   "id": "f6aadf2c",
   "metadata": {},
   "outputs": [],
   "source": [
    "pip install python-dotenv groq pydantic"
   ]
  },
  {
   "cell_type": "code",
   "execution_count": 5,
   "id": "6ae51dfe",
   "metadata": {},
   "outputs": [],
   "source": [
    "import os\n",
    "import json\n",
    "from groq import Groq\n",
    "from typing import Literal\n",
    "from dotenv import load_dotenv\n",
    "from pydantic import BaseModel\n",
    "\n",
    "load_dotenv()\n",
    "\n",
    "api_key = os.getenv(\"GROQ_API_KEY\")\n",
    "if not api_key:\n",
    "    raise ValueError(\"GROQ_API_KEY not found. Set it as an environment variable.\")\n",
    "\n",
    "client = Groq(api_key=api_key)"
   ]
  },
  {
   "cell_type": "code",
   "execution_count": null,
   "id": "0e47b2d0",
   "metadata": {},
   "outputs": [],
   "source": [
    "chat_completion = client.chat.completions.create(\n",
    "    messages=[\n",
    "        {\n",
    "            \"role\": \"system\",\n",
    "            \"content\": \"You are a helpful assistant.\"\n",
    "        },\n",
    "        {\n",
    "            \"role\": \"user\",\n",
    "            \"content\": \"Explain the importance of fast language models\",\n",
    "        }\n",
    "    ],\n",
    "    model=\"llama-3.3-70b-versatile\"\n",
    ")\n",
    "\n",
    "print(chat_completion.choices[0].message.content)"
   ]
  },
  {
   "cell_type": "code",
   "execution_count": 8,
   "id": "9f0889d5",
   "metadata": {},
   "outputs": [
    {
     "name": "stdout",
     "output_type": "stream",
     "text": [
      "{\n",
      "  \"rating\": 4.5,\n",
      "  \"product_name\": \"UltraSound Headphones\",\n",
      "  \"key_features\": [\n",
      "    \"amazing noise cancellation\",\n",
      "    \"all-day battery life\",\n",
      "    \"crisp and clear sound quality\"\n",
      "  ],\n",
      "  \"sentiment\": \"positive\"\n",
      "}\n"
     ]
    }
   ],
   "source": [
    "class ProductReview(BaseModel):\n",
    "    rating: float\n",
    "    product_name: str\n",
    "    key_features: list[str]\n",
    "    sentiment: Literal[\"positive\", \"negative\", \"neutral\"]\n",
    "\n",
    "response = client.chat.completions.create(\n",
    "    model=\"moonshotai/kimi-k2-instruct\",\n",
    "    messages=[\n",
    "        {\"role\": \"system\", \"content\": \"Extract product review information from the text.\"},\n",
    "        {\n",
    "            \"role\": \"user\",\n",
    "            \"content\": \"I bought the UltraSound Headphones last week and I'm really impressed! The noise cancellation is amazing and the battery lasts all day. Sound quality is crisp and clear. I'd give it 4.5 out of 5 stars.\",\n",
    "        },\n",
    "    ],\n",
    "    response_format={\n",
    "        \"type\": \"json_schema\",\n",
    "        \"json_schema\": {\n",
    "            \"name\": \"product_review\",\n",
    "            \"schema\": ProductReview.model_json_schema()\n",
    "        }\n",
    "    }\n",
    ")\n",
    "\n",
    "review = ProductReview.model_validate(json.loads(response.choices[0].message.content))\n",
    "print(json.dumps(review.model_dump(), indent=2))"
   ]
  }
 ],
 "metadata": {
  "kernelspec": {
   "display_name": "Python 3",
   "language": "python",
   "name": "python3"
  },
  "language_info": {
   "codemirror_mode": {
    "name": "ipython",
    "version": 3
   },
   "file_extension": ".py",
   "mimetype": "text/x-python",
   "name": "python",
   "nbconvert_exporter": "python",
   "pygments_lexer": "ipython3",
   "version": "3.9.6"
  }
 },
 "nbformat": 4,
 "nbformat_minor": 5
}
